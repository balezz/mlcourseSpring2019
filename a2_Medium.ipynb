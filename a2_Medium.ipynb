{
 "cells": [
  {
   "cell_type": "markdown",
   "metadata": {
    "_cell_guid": "4dd1d029-ec4a-40a0-9fbe-6f59328c5548",
    "_uuid": "a67ea201cca925f5c6581a1f1fa6559ba83143e8"
   },
   "source": [
    "## <center> Ridge and LightGBM: simple blending \n",
    "\n",
    "In this competition, the metric is mean absolute error (MAE), so it's better to optimize it directly. We'll do it with LightGBM, a powerfull implementation of gradient boosting. Remember: with Ridge regression we optimize mean squared error (MSE), and it's not the same as optimizing MAE. However, do to sparse features, Ridge will still work better than boosting in this problem, however mixing predictions of two models will further help to decrease MAE. \n",
    "So we'll apply a very simple method of averaging model predictions: blending. \n",
    "\n",
    "<img src='https://habrastorage.org/webt/gm/ns/jp/gmnsjpxmgabagmi-bgialqtuhqa.png' width=30%>\n",
    "\n",
    "Finally, here we'll apply a simple hack, one from the family of leaderboard probing techniques."
   ]
  },
  {
   "cell_type": "markdown",
   "metadata": {
    "_cell_guid": "de222a23-d641-41a0-a2cc-9fc7e688f184",
    "_uuid": "11b6f3d78b3b82996c224b11cdfd0bab034be61d"
   },
   "source": [
    "# Extracting titles from raw data"
   ]
  },
  {
   "cell_type": "code",
   "execution_count": 2,
   "metadata": {
    "_cell_guid": "06cc534e-2af4-46d6-8b4d-803cfe4571ec",
    "_uuid": "e1b4951dd043124fee3492ff0695f9c636057fc8"
   },
   "outputs": [],
   "source": [
    "import os\n",
    "import numpy as np\n",
    "import pandas as pd\n",
    "from matplotlib import pyplot as plt\n",
    "%matplotlib inline\n",
    "import json\n",
    "from tqdm import tqdm_notebook\n",
    "from sklearn.feature_extraction.text import CountVectorizer, TfidfVectorizer\n",
    "from sklearn.metrics import mean_absolute_error\n",
    "from sklearn.linear_model import Ridge\n",
    "from sklearn.preprocessing import StandardScaler\n",
    "from scipy.sparse import hstack, csr_matrix\n",
    "import lightgbm as lgb # No 32bit version :("
   ]
  },
  {
   "cell_type": "markdown",
   "metadata": {
    "_cell_guid": "c7aa2dc1-e8a2-40c0-8397-7134f4a2057d",
    "_uuid": "fe72b9fc75119d409e6d252b3071559de27d34cd"
   },
   "source": [
    "The following code will help to throw away all HTML tags from article content/title."
   ]
  },
  {
   "cell_type": "code",
   "execution_count": 3,
   "metadata": {
    "_cell_guid": "0172dd0f-3910-433b-b380-22aec5fe9e9d",
    "_uuid": "93f81e32215659788aa3ce31bb2f3f4481df51e3"
   },
   "outputs": [],
   "source": [
    "from html.parser import HTMLParser\n",
    "\n",
    "class MLStripper(HTMLParser):\n",
    "    def __init__(self):\n",
    "        self.reset()\n",
    "        self.strict = False\n",
    "        self.convert_charrefs= True\n",
    "        self.fed = []\n",
    "    def handle_data(self, d):\n",
    "        self.fed.append(d)\n",
    "    def get_data(self):\n",
    "        return ''.join(self.fed)\n",
    "\n",
    "def strip_tags(html):\n",
    "    s = MLStripper()\n",
    "    s.feed(html)\n",
    "    return s.get_data()"
   ]
  },
  {
   "cell_type": "markdown",
   "metadata": {
    "_cell_guid": "ca74411d-6911-42a4-95df-a0dc45603612",
    "_uuid": "fb2a1734f20302569efe92f9535eadcc8a1bb49e"
   },
   "source": [
    "Path to competition data, change this if you'd like to."
   ]
  },
  {
   "cell_type": "code",
   "execution_count": 4,
   "metadata": {
    "_cell_guid": "7677e1d8-e793-4467-9cd1-44f9ea0ac3f4",
    "_uuid": "332674aace5844464062477724ecf05670118099"
   },
   "outputs": [],
   "source": [
    "PATH_TO_DATA = '../../data/medium/'"
   ]
  },
  {
   "cell_type": "markdown",
   "metadata": {
    "_cell_guid": "5516a34f-b502-44a2-9061-4494bca6d60e",
    "_uuid": "1dde1dca6cb4f787ad4497614d2510d5a25e83c1"
   },
   "source": [
    "Assume you have all data downloaded from competition's [page](https://www.kaggle.com/c/how-good-is-your-medium-article/data) in the PATH_TO_DATA folder and `.gz` files are ungzipped."
   ]
  },
  {
   "cell_type": "markdown",
   "metadata": {
    "_cell_guid": "5282d3eb-9282-4e7c-bfef-b0e132b3c9e1",
    "_uuid": "54ebfaeddb43eac434df053795f04df1bac9ed94"
   },
   "source": [
    "Supplementary function to read a JSON line without crashing on escape characters. "
   ]
  },
  {
   "cell_type": "code",
   "execution_count": 5,
   "metadata": {
    "_cell_guid": "a2a4d5c3-2722-46b1-a511-d697251b1f74",
    "_uuid": "b2e46847f7896074300076ac9be5d68777b10916"
   },
   "outputs": [],
   "source": [
    "def read_json_line(line=None):\n",
    "    result = None\n",
    "    try:        \n",
    "        result = json.loads(line)\n",
    "    except Exception as e:      \n",
    "        # Find the offending character index:\n",
    "        idx_to_replace = int(str(e).split(' ')[-1].replace(')',''))      \n",
    "        # Remove the offending character:\n",
    "        new_line = list(line)\n",
    "        new_line[idx_to_replace] = ' '\n",
    "        new_line = ''.join(new_line)     \n",
    "        return read_json_line(line=new_line)\n",
    "    return result"
   ]
  },
  {
   "cell_type": "markdown",
   "metadata": {
    "_cell_guid": "a9aaa592-ce92-4383-86d5-903028dd255e",
    "_uuid": "ec733c41b09a082268192674866e99e54081b35f"
   },
   "source": [
    "This function takes a JSON and forms a txt file leaving only article titles. When you resort to feature engineering and extract various features from articles, a good idea is to modify this function."
   ]
  },
  {
   "cell_type": "code",
   "execution_count": 6,
   "metadata": {},
   "outputs": [
    {
     "data": {
      "text/plain": [
       "Timestamp('2017-05-06 08:16:30.776000')"
      ]
     },
     "execution_count": 6,
     "metadata": {},
     "output_type": "execute_result"
    }
   ],
   "source": [
    "path_in = os.path.join(PATH_TO_DATA, 'train.json')\n",
    "with open(path_in, encoding='utf-8') as inp_file:\n",
    "    post = []\n",
    "    for i in range(0, 10):\n",
    "        json_line = inp_file.readline()\n",
    "        post.append(read_json_line(json_line))\n",
    "\n",
    "page = post[3]\n",
    "\n",
    "date = page['published']['$date']\n",
    "pd.to_datetime(date)"
   ]
  },
  {
   "cell_type": "markdown",
   "metadata": {
    "_cell_guid": "75ed1578-d6ed-4f59-b8a4-991b3554ac92",
    "_uuid": "44f125b61bbff5eef82720f741eac179bc553851"
   },
   "source": [
    "def extract_titles_from_json(path_to_inp_json_file, path_to_out_txt_file, total_length):\n",
    "    '''\n",
    "    :param path_to_inp_json_file: path to a JSON file with train/test data\n",
    "    :param path_to_out_txt_file: path to extracted features (here titles), one per line\n",
    "    :param total_length: we'll pass the hardcoded file length to make tqdm even more convenient\n",
    "    '''\n",
    "    with open(path_to_inp_json_file, encoding='utf-8') as inp_file, \\\n",
    "         open(path_to_out_txt_file, 'w', encoding='utf-8') as out_file:\n",
    "        for line in tqdm_notebook(inp_file, total=total_length):\n",
    "            json_data = read_json_line(line)\n",
    "            title = json_data['title'].replace('\\n', ' ').replace('\\r', ' ')\n",
    "            title_no_html_tags = strip_tags(title)\n",
    "            out_file.write(title_no_html_tags + '\\n')"
   ]
  },
  {
   "cell_type": "code",
   "execution_count": 8,
   "metadata": {
    "_cell_guid": "75ed1578-d6ed-4f59-b8a4-991b3554ac92",
    "_uuid": "44f125b61bbff5eef82720f741eac179bc553851"
   },
   "outputs": [],
   "source": [
    "def extract_titles_from_json(path_to_inp_json_file, path_to_out_txt_file, total_length):\n",
    "    '''\n",
    "    :param path_to_inp_json_file: path to a JSON file with train/test data\n",
    "    :param path_to_out_txt_file: path to extracted features (here titles), one per line\n",
    "    :param total_length: we'll pass the hardcoded file length to make tqdm even more convenient\n",
    "    '''\n",
    "    with open(path_to_inp_json_file, encoding='utf-8') as inp_file, \\\n",
    "         open(path_to_out_txt_file, 'w', encoding='utf-8') as out_file:\n",
    "        new_json = []\n",
    "        for line in tqdm_notebook(inp_file, total=total_length):\n",
    "            json_data = read_json_line(line)\n",
    "            title = json_data['title'].replace('\\n', ' ')\\\n",
    "                                        .replace('\\r', ' ')\n",
    "\n",
    "            title_no_html = strip_tags(title)\n",
    "            content = json_data['content'].replace('\\n', ' ')\\\n",
    "                                            .replace('\\r', ' ')\\\n",
    "                                            .replace('</div>', ' </div>')\n",
    "            content_no_html = strip_tags(content)                                    # add content to title\n",
    "            content_no_html_trunc = content_no_html[:300] + content_no_html[-300:]\n",
    "            pub_date = json_data['published']['$date']\n",
    "            new_json_line = {'content': title_no_html + content_no_html_trunc, 'date':date}\n",
    "            out_file.write(json.dumps(new_json_line))\n",
    "            out_file.write('\\n')"
   ]
  },
  {
   "cell_type": "code",
   "execution_count": 9,
   "metadata": {
    "_cell_guid": "9d169073-b72f-41c1-86d5-839cbce9439d",
    "_uuid": "51f1a68cfd5c293aa520317550817710489a7ea9",
    "scrolled": false
   },
   "outputs": [
    {
     "data": {
      "application/vnd.jupyter.widget-view+json": {
       "model_id": "f0eecd1686984779bd9e2409437191d6",
       "version_major": 2,
       "version_minor": 0
      },
      "text/plain": [
       "HBox(children=(IntProgress(value=0, max=62313), HTML(value='')))"
      ]
     },
     "metadata": {},
     "output_type": "display_data"
    },
    {
     "name": "stdout",
     "output_type": "stream",
     "text": [
      "\n",
      "CPU times: user 3min 56s, sys: 3 s, total: 3min 59s\n",
      "Wall time: 4min\n"
     ]
    }
   ],
   "source": [
    "%%time\n",
    "extract_titles_from_json(path_to_inp_json_file=os.path.join(PATH_TO_DATA, 'train.json'),\n",
    "           path_to_out_txt_file='train_titles.txt', total_length=62313)"
   ]
  },
  {
   "cell_type": "code",
   "execution_count": 10,
   "metadata": {
    "_cell_guid": "0b27571f-96d1-4820-9be8-18466f4f2234",
    "_uuid": "7def6bd82e21891fae1ce41431974d9325532321"
   },
   "outputs": [
    {
     "data": {
      "application/vnd.jupyter.widget-view+json": {
       "model_id": "80da97430a634ae5b7ae6afb1afa61e2",
       "version_major": 2,
       "version_minor": 0
      },
      "text/plain": [
       "HBox(children=(IntProgress(value=0, max=34645), HTML(value='')))"
      ]
     },
     "metadata": {},
     "output_type": "display_data"
    },
    {
     "name": "stdout",
     "output_type": "stream",
     "text": [
      "\n",
      "CPU times: user 2min 15s, sys: 2.06 s, total: 2min 17s\n",
      "Wall time: 2min 17s\n"
     ]
    }
   ],
   "source": [
    "%%time\n",
    "extract_titles_from_json(path_to_inp_json_file=os.path.join(PATH_TO_DATA, 'test.json'),\n",
    "           path_to_out_txt_file='test_titles.txt', total_length=34645)"
   ]
  },
  {
   "cell_type": "markdown",
   "metadata": {
    "_cell_guid": "004a8e21-2cf1-4fc5-a86c-25dd0869a3fa",
    "_uuid": "db25711aa05a7450f2ba48c9f4c60b4f64b7678f"
   },
   "source": [
    "# Feature engineering (simple Tf-Idf for titles)\n",
    "We'll use a very simple feature extractor – `TfidfVectorizer`, meaning that we resort to the Bag-of-Words approach. For now, we are leaving only 50k features. "
   ]
  },
  {
   "cell_type": "code",
   "execution_count": 11,
   "metadata": {
    "_cell_guid": "2d4b58b0-6729-414b-b2b6-88ac792829b4",
    "_uuid": "86c7c59e3ccd627ea99214a68aa9acf219bba62b"
   },
   "outputs": [],
   "source": [
    "tfidf = TfidfVectorizer(max_features=50000, ngram_range=(1, 3))"
   ]
  },
  {
   "cell_type": "code",
   "execution_count": 12,
   "metadata": {},
   "outputs": [
    {
     "name": "stdout",
     "output_type": "stream",
     "text": [
      "CPU times: user 625 ms, sys: 168 ms, total: 793 ms\n",
      "Wall time: 826 ms\n"
     ]
    }
   ],
   "source": [
    "%%time\n",
    "df_train = pd.read_json('train_titles.txt', lines=True)\n",
    "df_test = pd.read_json('test_titles.txt', lines=True)"
   ]
  },
  {
   "cell_type": "code",
   "execution_count": 13,
   "metadata": {
    "_cell_guid": "0a60fd08-bbb7-4e4a-97b6-5161d95fbc83",
    "_uuid": "484a371d64c6d3d20262773e874f4d84781322cc"
   },
   "outputs": [
    {
     "name": "stdout",
     "output_type": "stream",
     "text": [
      "CPU times: user 34.6 s, sys: 1.09 s, total: 35.7 s\n",
      "Wall time: 35.3 s\n"
     ]
    }
   ],
   "source": [
    "%%time\n",
    "X_train = tfidf.fit_transform(df_train.content)"
   ]
  },
  {
   "cell_type": "code",
   "execution_count": 14,
   "metadata": {
    "_cell_guid": "3265950f-7cbf-4ac6-a743-95c82b428d40",
    "_uuid": "29296795f777113e0ab7c581d506fa528be3c789"
   },
   "outputs": [
    {
     "name": "stdout",
     "output_type": "stream",
     "text": [
      "CPU times: user 7.77 s, sys: 39.5 ms, total: 7.81 s\n",
      "Wall time: 7.85 s\n"
     ]
    }
   ],
   "source": [
    "%%time\n",
    "X_test = tfidf.transform(df_test.content)"
   ]
  },
  {
   "cell_type": "code",
   "execution_count": 15,
   "metadata": {
    "_cell_guid": "97d71082-8877-4f8f-8906-43c52c3afab6",
    "_uuid": "0e8d89441c9af9fe346973069823710fb7c09e94"
   },
   "outputs": [
    {
     "data": {
      "text/plain": [
       "((62313, 50000), (34645, 50000))"
      ]
     },
     "execution_count": 15,
     "metadata": {},
     "output_type": "execute_result"
    }
   ],
   "source": [
    "X_train.shape, X_test.shape"
   ]
  },
  {
   "cell_type": "markdown",
   "metadata": {
    "_cell_guid": "ae2af843-db20-4f45-ac20-7c1b2b527041",
    "_uuid": "4bbabb8c8140f5d61d1e79c453da578c14a88541"
   },
   "source": [
    "Read targets from file."
   ]
  },
  {
   "cell_type": "code",
   "execution_count": 16,
   "metadata": {
    "_cell_guid": "80e2e806-5e61-4c5d-995c-07879644d648",
    "_uuid": "11ab40d38744131e69c73e93a3da939e9622f3f8"
   },
   "outputs": [],
   "source": [
    "train_target = pd.read_csv(os.path.join(PATH_TO_DATA, \n",
    "                                        'train_log1p_recommends.csv'), \n",
    "                           index_col='id')"
   ]
  },
  {
   "cell_type": "code",
   "execution_count": 17,
   "metadata": {
    "_cell_guid": "cc7e3647-13fe-4088-94f2-04f51aedb465",
    "_uuid": "8a3546b717b9635f1a9f7915c3eaa1a621400a34"
   },
   "outputs": [],
   "source": [
    "y_train = train_target['log_recommends'].values"
   ]
  },
  {
   "cell_type": "markdown",
   "metadata": {
    "_cell_guid": "01994937-e6c6-4b63-99a4-1f0f08d293e1",
    "_uuid": "ca32562c962704c3449ef9f94fc9a5128df11552"
   },
   "source": [
    "Target is still somewhat skewed, though it's allready `log1p`-transformed (#claps with `log1p` transformation). Yet, we'll apply `log1p` once more time."
   ]
  },
  {
   "cell_type": "code",
   "execution_count": 18,
   "metadata": {
    "_cell_guid": "857a129c-cb28-49d6-9a4f-696b0c2d7937",
    "_uuid": "3921031e7220a807bcbfb14263cdd4a7a5b03b98"
   },
   "outputs": [
    {
     "data": {
      "image/png": "[encoded data removed]",
      "text/plain": [
       "<Figure size 432x288 with 1 Axes>"
      ]
     },
     "metadata": {
      "needs_background": "light"
     },
     "output_type": "display_data"
    }
   ],
   "source": [
    "plt.hist(y_train, bins=30, alpha=.5, color='red', \n",
    "         label='original', range=(0,10));\n",
    "plt.hist(np.log1p(y_train), bins=30, alpha=.5, color='green', \n",
    "         label='log1p', range=(0,10));\n",
    "plt.legend();"
   ]
  },
  {
   "cell_type": "code",
   "execution_count": 19,
   "metadata": {},
   "outputs": [],
   "source": [
    "def add_time_features(X_sparse, df):\n",
    "    \n",
    "    hour = df.date.apply(lambda ts: ts.hour).astype(np.int8)\n",
    "    morning = ((hour >= 7) & (hour <= 11)).astype('int').values.reshape(-1, 1)\n",
    "    day = ((hour >= 12) & (hour <= 18)).astype('int').values.reshape(-1, 1)\n",
    "    evening = ((hour >= 19) & (hour <= 23)).astype('int').values.reshape(-1, 1)\n",
    "    night = ((hour >= 0) & (hour <=6)).astype('int').values.reshape(-1, 1)\n",
    "   \n",
    "    weekend = df.date.apply(lambda ts: ts.dayofweek > 5).astype(np.int8).values.reshape(-1,1)\n",
    "\n",
    "    day_of_week = df.date.apply(lambda t: t.weekday()).values.reshape(-1, 1)\n",
    "    day_of_week_sc = StandardScaler().fit_transform(day_of_week)\n",
    "    \n",
    "    month = df.date.apply(lambda t: t.month).values.reshape(-1,1)\n",
    "    month_sc = StandardScaler().fit_transform(month)\n",
    "    \n",
    "    yyyymm = df.date.apply(lambda ts: ts.year * 100 + ts.month).astype(np.float).values.reshape(-1, 1)\n",
    "    yyyymm_sc = StandardScaler().fit_transform(yyyymm)\n",
    "    \n",
    "    \n",
    "    X = csr_matrix( hstack([X_sparse, morning, day, evening, night,yyyymm_sc, \n",
    "                day_of_week_sc, weekend, month_sc]) )\n",
    "    \n",
    "    feat_name = ['morning', 'day', 'evening', 'night', 'yyyymm_sc', \n",
    "                'day_of_week_sc', 'weekend', 'month_sc']\n",
    "    \n",
    "    return X, feat_name"
   ]
  },
  {
   "cell_type": "code",
   "execution_count": 20,
   "metadata": {},
   "outputs": [
    {
     "name": "stderr",
     "output_type": "stream",
     "text": [
      "/home/andrey/anaconda3/lib/python3.7/site-packages/sklearn/utils/validation.py:595: DataConversionWarning: Data with input dtype int64 was converted to float64 by StandardScaler.\n",
      "  warnings.warn(msg, DataConversionWarning)\n",
      "/home/andrey/anaconda3/lib/python3.7/site-packages/sklearn/utils/validation.py:595: DataConversionWarning: Data with input dtype int64 was converted to float64 by StandardScaler.\n",
      "  warnings.warn(msg, DataConversionWarning)\n",
      "/home/andrey/anaconda3/lib/python3.7/site-packages/sklearn/utils/validation.py:595: DataConversionWarning: Data with input dtype int64 was converted to float64 by StandardScaler.\n",
      "  warnings.warn(msg, DataConversionWarning)\n",
      "/home/andrey/anaconda3/lib/python3.7/site-packages/sklearn/utils/validation.py:595: DataConversionWarning: Data with input dtype int64 was converted to float64 by StandardScaler.\n",
      "  warnings.warn(msg, DataConversionWarning)\n",
      "/home/andrey/anaconda3/lib/python3.7/site-packages/sklearn/utils/validation.py:595: DataConversionWarning: Data with input dtype int64 was converted to float64 by StandardScaler.\n",
      "  warnings.warn(msg, DataConversionWarning)\n",
      "/home/andrey/anaconda3/lib/python3.7/site-packages/sklearn/utils/validation.py:595: DataConversionWarning: Data with input dtype int64 was converted to float64 by StandardScaler.\n",
      "  warnings.warn(msg, DataConversionWarning)\n",
      "/home/andrey/anaconda3/lib/python3.7/site-packages/sklearn/utils/validation.py:595: DataConversionWarning: Data with input dtype int64 was converted to float64 by StandardScaler.\n",
      "  warnings.warn(msg, DataConversionWarning)\n",
      "/home/andrey/anaconda3/lib/python3.7/site-packages/sklearn/utils/validation.py:595: DataConversionWarning: Data with input dtype int64 was converted to float64 by StandardScaler.\n",
      "  warnings.warn(msg, DataConversionWarning)\n"
     ]
    }
   ],
   "source": [
    "X_feat_train, feat_names = add_time_features(X_train, df_train)\n",
    "X_feat_test, _ = add_time_features(X_test, df_test)"
   ]
  },
  {
   "cell_type": "code",
   "execution_count": 21,
   "metadata": {},
   "outputs": [
    {
     "data": {
      "text/plain": [
       "((62313, 50008), (34645, 50008))"
      ]
     },
     "execution_count": 21,
     "metadata": {},
     "output_type": "execute_result"
    }
   ],
   "source": [
    "X_feat_train.shape, X_feat_test.shape"
   ]
  },
  {
   "cell_type": "code",
   "execution_count": 22,
   "metadata": {},
   "outputs": [
    {
     "data": {
      "text/plain": [
       "<62313x50008 sparse matrix of type '<class 'numpy.float64'>'\n",
       "\twith 7287814 stored elements in Compressed Sparse Row format>"
      ]
     },
     "execution_count": 22,
     "metadata": {},
     "output_type": "execute_result"
    }
   ],
   "source": [
    "X_feat_train"
   ]
  },
  {
   "cell_type": "code",
   "execution_count": 23,
   "metadata": {},
   "outputs": [
    {
     "data": {
      "text/plain": [
       "<62313x50000 sparse matrix of type '<class 'numpy.float64'>'\n",
       "\twith 7225501 stored elements in Compressed Sparse Row format>"
      ]
     },
     "execution_count": 23,
     "metadata": {},
     "output_type": "execute_result"
    }
   ],
   "source": [
    "X_train"
   ]
  },
  {
   "cell_type": "markdown",
   "metadata": {
    "_cell_guid": "cc35014e-a3a6-4715-9f79-a03cba1e3563",
    "_uuid": "2055c8c8842594ba70a0107c1f13f1d369deff6c"
   },
   "source": [
    "# Validation and model training\n",
    "Let's make a 30%-holdout set. "
   ]
  },
  {
   "cell_type": "code",
   "execution_count": 24,
   "metadata": {
    "_cell_guid": "cf927a45-29df-4aec-84cd-58405ca2386a",
    "_uuid": "7d2e0e4d9d1b09af4688504853780ea1cb7b79e1"
   },
   "outputs": [],
   "source": [
    "train_part_size = int(0.7 * train_target.shape[0])"
   ]
  },
  {
   "cell_type": "code",
   "execution_count": 25,
   "metadata": {},
   "outputs": [
    {
     "data": {
      "text/plain": [
       "43619"
      ]
     },
     "execution_count": 25,
     "metadata": {},
     "output_type": "execute_result"
    }
   ],
   "source": [
    "train_part_size"
   ]
  },
  {
   "cell_type": "code",
   "execution_count": 26,
   "metadata": {
    "_cell_guid": "cf927a45-29df-4aec-84cd-58405ca2386a",
    "_uuid": "7d2e0e4d9d1b09af4688504853780ea1cb7b79e1"
   },
   "outputs": [],
   "source": [
    "X_train_part = X_feat_train[:train_part_size, :]\n",
    "y_train_part = y_train[:train_part_size]\n",
    "X_valid =  X_feat_train[train_part_size:, :]\n",
    "y_valid = y_train[train_part_size:]"
   ]
  },
  {
   "cell_type": "markdown",
   "metadata": {
    "_cell_guid": "5547daf8-b6ed-49d8-98d0-adec526b8b4c",
    "_uuid": "33f5eaf2aa800057045a98c605aa1ec30048243a"
   },
   "source": [
    "Now we are ready to fit a linear model."
   ]
  },
  {
   "cell_type": "code",
   "execution_count": 27,
   "metadata": {
    "_cell_guid": "8679ed87-9a62-447d-a9f3-3d5dd6281b76",
    "_uuid": "88cc5997068a29f8c63bac8bf4e7a5f9351c6409"
   },
   "outputs": [],
   "source": [
    "ridge = Ridge(random_state=17)"
   ]
  },
  {
   "cell_type": "code",
   "execution_count": 28,
   "metadata": {
    "_cell_guid": "daff858e-50c0-4223-90de-01dc2a37b5aa",
    "_uuid": "d1f09b44fa92e4de209eb9e4b33475b7a7379e9e"
   },
   "outputs": [
    {
     "name": "stdout",
     "output_type": "stream",
     "text": [
      "CPU times: user 2.98 s, sys: 31.8 ms, total: 3.01 s\n",
      "Wall time: 2.89 s\n"
     ]
    },
    {
     "data": {
      "text/plain": [
       "Ridge(alpha=1.0, copy_X=True, fit_intercept=True, max_iter=None,\n",
       "   normalize=False, random_state=17, solver='auto', tol=0.001)"
      ]
     },
     "execution_count": 28,
     "metadata": {},
     "output_type": "execute_result"
    }
   ],
   "source": [
    "%%time\n",
    "ridge.fit(X_train_part, np.log1p(y_train_part));"
   ]
  },
  {
   "cell_type": "markdown",
   "metadata": {
    "_cell_guid": "72bbe1ec-7a6e-40ab-adaa-92bc1eb1234d",
    "_uuid": "88f0a4a3fce525498be0a224f2d1d23c638baccb"
   },
   "source": [
    "After `log1p`-transformation, we need to apply an inverse  `expm1`-trasformation to predictions."
   ]
  },
  {
   "cell_type": "code",
   "execution_count": 29,
   "metadata": {
    "_cell_guid": "bda0619d-28ca-4921-a3b1-525e34f47571",
    "_uuid": "1bec676abd7d3721e018f479bbc7dc88e36b60f3"
   },
   "outputs": [],
   "source": [
    "ridge_pred = np.expm1(ridge.predict(X_valid))"
   ]
  },
  {
   "cell_type": "markdown",
   "metadata": {
    "_cell_guid": "d72da21d-9a81-45ef-a353-709fb5d3cc41",
    "_uuid": "c40f4fd05bd5f275526bebaddaf3b58863e2ebd1"
   },
   "source": [
    "Then, we fit a LightGBM model with `mean_absolute_error` as objective (it's important!)."
   ]
  },
  {
   "cell_type": "code",
   "execution_count": 30,
   "metadata": {
    "_cell_guid": "f1811cc5-00bc-4dd7-8c90-9f49a774a4af",
    "_uuid": "f3b7b01d057bc853cd9592e51bce8653637497f7"
   },
   "outputs": [],
   "source": [
    "lgb_x_train_part = lgb.Dataset(X_train_part.astype(np.float32), \n",
    "                           label=np.log1p(y_train_part))"
   ]
  },
  {
   "cell_type": "code",
   "execution_count": 31,
   "metadata": {
    "_cell_guid": "cc955040-ad3e-45d1-9ad0-fe0057995ba0",
    "_uuid": "4295e563e2b52702ca420974ac80edef7231ecc2"
   },
   "outputs": [],
   "source": [
    "lgb_x_valid = lgb.Dataset(X_valid.astype(np.float32), \n",
    "                      label=np.log1p(y_valid))"
   ]
  },
  {
   "cell_type": "code",
   "execution_count": 32,
   "metadata": {
    "_cell_guid": "b94471ee-9f3c-4e48-85ba-f250e0e4ea7a",
    "_uuid": "fad0d495dfac21cc212842bf454468a07fa4bd1b"
   },
   "outputs": [],
   "source": [
    "param = {'num_leaves': 255, \n",
    "         'objective': 'mean_absolute_error',\n",
    "         'metric': 'mae'}"
   ]
  },
  {
   "cell_type": "code",
   "execution_count": 33,
   "metadata": {
    "_cell_guid": "1cd51d6c-1c7b-49a6-bad8-93260a0ed810",
    "_uuid": "a872d2f5f782466f8cd271c161c19dbb38854908"
   },
   "outputs": [
    {
     "name": "stdout",
     "output_type": "stream",
     "text": [
      "[1]\tvalid_0's l1: 0.378991\n",
      "Training until validation scores don't improve for 20 rounds.\n",
      "[2]\tvalid_0's l1: 0.371431\n",
      "[3]\tvalid_0's l1: 0.365073\n",
      "[4]\tvalid_0's l1: 0.359269\n",
      "[5]\tvalid_0's l1: 0.354444\n",
      "[6]\tvalid_0's l1: 0.350282\n",
      "[7]\tvalid_0's l1: 0.346786\n",
      "[8]\tvalid_0's l1: 0.343554\n",
      "[9]\tvalid_0's l1: 0.340892\n",
      "[10]\tvalid_0's l1: 0.338097\n",
      "[11]\tvalid_0's l1: 0.335779\n",
      "[12]\tvalid_0's l1: 0.333585\n",
      "[13]\tvalid_0's l1: 0.332074\n",
      "[14]\tvalid_0's l1: 0.330406\n",
      "[15]\tvalid_0's l1: 0.329288\n",
      "[16]\tvalid_0's l1: 0.328277\n",
      "[17]\tvalid_0's l1: 0.327079\n",
      "[18]\tvalid_0's l1: 0.326087\n",
      "[19]\tvalid_0's l1: 0.32501\n",
      "[20]\tvalid_0's l1: 0.324093\n",
      "[21]\tvalid_0's l1: 0.323381\n",
      "[22]\tvalid_0's l1: 0.322782\n",
      "[23]\tvalid_0's l1: 0.322291\n",
      "[24]\tvalid_0's l1: 0.321785\n",
      "[25]\tvalid_0's l1: 0.321361\n",
      "[26]\tvalid_0's l1: 0.321002\n",
      "[27]\tvalid_0's l1: 0.320526\n",
      "[28]\tvalid_0's l1: 0.320168\n",
      "[29]\tvalid_0's l1: 0.31965\n",
      "[30]\tvalid_0's l1: 0.319\n",
      "[31]\tvalid_0's l1: 0.318627\n",
      "[32]\tvalid_0's l1: 0.318361\n",
      "[33]\tvalid_0's l1: 0.317968\n",
      "[34]\tvalid_0's l1: 0.317478\n",
      "[35]\tvalid_0's l1: 0.317368\n",
      "[36]\tvalid_0's l1: 0.317158\n",
      "[37]\tvalid_0's l1: 0.316933\n",
      "[38]\tvalid_0's l1: 0.316676\n",
      "[39]\tvalid_0's l1: 0.316459\n",
      "[40]\tvalid_0's l1: 0.31637\n",
      "[41]\tvalid_0's l1: 0.316194\n",
      "[42]\tvalid_0's l1: 0.316001\n",
      "[43]\tvalid_0's l1: 0.315729\n",
      "[44]\tvalid_0's l1: 0.315503\n",
      "[45]\tvalid_0's l1: 0.315263\n",
      "[46]\tvalid_0's l1: 0.315007\n",
      "[47]\tvalid_0's l1: 0.31485\n",
      "[48]\tvalid_0's l1: 0.314633\n",
      "[49]\tvalid_0's l1: 0.31445\n",
      "[50]\tvalid_0's l1: 0.314261\n",
      "[51]\tvalid_0's l1: 0.3142\n",
      "[52]\tvalid_0's l1: 0.313996\n",
      "[53]\tvalid_0's l1: 0.313932\n",
      "[54]\tvalid_0's l1: 0.313827\n",
      "[55]\tvalid_0's l1: 0.313791\n",
      "[56]\tvalid_0's l1: 0.313703\n",
      "[57]\tvalid_0's l1: 0.313596\n",
      "[58]\tvalid_0's l1: 0.313464\n",
      "[59]\tvalid_0's l1: 0.313402\n",
      "[60]\tvalid_0's l1: 0.31329\n",
      "[61]\tvalid_0's l1: 0.313191\n",
      "[62]\tvalid_0's l1: 0.313109\n",
      "[63]\tvalid_0's l1: 0.313211\n",
      "[64]\tvalid_0's l1: 0.313148\n",
      "[65]\tvalid_0's l1: 0.31306\n",
      "[66]\tvalid_0's l1: 0.312944\n",
      "[67]\tvalid_0's l1: 0.312842\n",
      "[68]\tvalid_0's l1: 0.312697\n",
      "[69]\tvalid_0's l1: 0.312631\n",
      "[70]\tvalid_0's l1: 0.312509\n",
      "[71]\tvalid_0's l1: 0.31246\n",
      "[72]\tvalid_0's l1: 0.312483\n",
      "[73]\tvalid_0's l1: 0.312406\n",
      "[74]\tvalid_0's l1: 0.312321\n",
      "[75]\tvalid_0's l1: 0.312261\n",
      "[76]\tvalid_0's l1: 0.312188\n",
      "[77]\tvalid_0's l1: 0.312121\n",
      "[78]\tvalid_0's l1: 0.31207\n",
      "[79]\tvalid_0's l1: 0.311981\n",
      "[80]\tvalid_0's l1: 0.311961\n",
      "[81]\tvalid_0's l1: 0.311924\n",
      "[82]\tvalid_0's l1: 0.311836\n",
      "[83]\tvalid_0's l1: 0.311801\n",
      "[84]\tvalid_0's l1: 0.311762\n",
      "[85]\tvalid_0's l1: 0.311722\n",
      "[86]\tvalid_0's l1: 0.311628\n",
      "[87]\tvalid_0's l1: 0.311604\n",
      "[88]\tvalid_0's l1: 0.311522\n",
      "[89]\tvalid_0's l1: 0.311451\n",
      "[90]\tvalid_0's l1: 0.311453\n",
      "[91]\tvalid_0's l1: 0.311426\n",
      "[92]\tvalid_0's l1: 0.311356\n",
      "[93]\tvalid_0's l1: 0.311364\n",
      "[94]\tvalid_0's l1: 0.311326\n",
      "[95]\tvalid_0's l1: 0.31123\n",
      "[96]\tvalid_0's l1: 0.311179\n",
      "[97]\tvalid_0's l1: 0.311149\n",
      "[98]\tvalid_0's l1: 0.311114\n",
      "[99]\tvalid_0's l1: 0.311095\n",
      "[100]\tvalid_0's l1: 0.311035\n",
      "[101]\tvalid_0's l1: 0.310992\n",
      "[102]\tvalid_0's l1: 0.310983\n",
      "[103]\tvalid_0's l1: 0.310957\n",
      "[104]\tvalid_0's l1: 0.310928\n",
      "[105]\tvalid_0's l1: 0.310882\n",
      "[106]\tvalid_0's l1: 0.310836\n",
      "[107]\tvalid_0's l1: 0.310842\n",
      "[108]\tvalid_0's l1: 0.310872\n",
      "[109]\tvalid_0's l1: 0.310879\n",
      "[110]\tvalid_0's l1: 0.310872\n",
      "[111]\tvalid_0's l1: 0.310889\n",
      "[112]\tvalid_0's l1: 0.310826\n",
      "[113]\tvalid_0's l1: 0.310794\n",
      "[114]\tvalid_0's l1: 0.310788\n",
      "[115]\tvalid_0's l1: 0.310778\n",
      "[116]\tvalid_0's l1: 0.310782\n",
      "[117]\tvalid_0's l1: 0.310755\n",
      "[118]\tvalid_0's l1: 0.310718\n",
      "[119]\tvalid_0's l1: 0.310747\n",
      "[120]\tvalid_0's l1: 0.310735\n",
      "[121]\tvalid_0's l1: 0.310732\n",
      "[122]\tvalid_0's l1: 0.310731\n",
      "[123]\tvalid_0's l1: 0.310709\n",
      "[124]\tvalid_0's l1: 0.310682\n",
      "[125]\tvalid_0's l1: 0.310676\n",
      "[126]\tvalid_0's l1: 0.310695\n",
      "[127]\tvalid_0's l1: 0.310683\n",
      "[128]\tvalid_0's l1: 0.310677\n",
      "[129]\tvalid_0's l1: 0.310667\n",
      "[130]\tvalid_0's l1: 0.31064\n",
      "[131]\tvalid_0's l1: 0.310662\n",
      "[132]\tvalid_0's l1: 0.310664\n",
      "[133]\tvalid_0's l1: 0.310664\n",
      "[134]\tvalid_0's l1: 0.310643\n",
      "[135]\tvalid_0's l1: 0.310629\n",
      "[136]\tvalid_0's l1: 0.31061\n",
      "[137]\tvalid_0's l1: 0.31064\n",
      "[138]\tvalid_0's l1: 0.310601\n",
      "[139]\tvalid_0's l1: 0.31059\n",
      "[140]\tvalid_0's l1: 0.31056\n",
      "[141]\tvalid_0's l1: 0.310541\n",
      "[142]\tvalid_0's l1: 0.310552\n",
      "[143]\tvalid_0's l1: 0.310582\n",
      "[144]\tvalid_0's l1: 0.310538\n",
      "[145]\tvalid_0's l1: 0.3105\n",
      "[146]\tvalid_0's l1: 0.310479\n",
      "[147]\tvalid_0's l1: 0.310468\n",
      "[148]\tvalid_0's l1: 0.310441\n",
      "[149]\tvalid_0's l1: 0.310433\n",
      "[150]\tvalid_0's l1: 0.310389\n",
      "[151]\tvalid_0's l1: 0.310375\n",
      "[152]\tvalid_0's l1: 0.31039\n",
      "[153]\tvalid_0's l1: 0.310389\n",
      "[154]\tvalid_0's l1: 0.310375\n",
      "[155]\tvalid_0's l1: 0.310367\n",
      "[156]\tvalid_0's l1: 0.310369\n",
      "[157]\tvalid_0's l1: 0.310362\n",
      "[158]\tvalid_0's l1: 0.310361\n",
      "[159]\tvalid_0's l1: 0.31037\n",
      "[160]\tvalid_0's l1: 0.310386\n",
      "[161]\tvalid_0's l1: 0.310383\n",
      "[162]\tvalid_0's l1: 0.310388\n",
      "[163]\tvalid_0's l1: 0.310364\n",
      "[164]\tvalid_0's l1: 0.310367\n",
      "[165]\tvalid_0's l1: 0.310359\n",
      "[166]\tvalid_0's l1: 0.310359\n",
      "[167]\tvalid_0's l1: 0.310352\n",
      "[168]\tvalid_0's l1: 0.31035\n",
      "[169]\tvalid_0's l1: 0.310341\n",
      "[170]\tvalid_0's l1: 0.310344\n",
      "[171]\tvalid_0's l1: 0.31032\n",
      "[172]\tvalid_0's l1: 0.310335\n",
      "[173]\tvalid_0's l1: 0.310324\n",
      "[174]\tvalid_0's l1: 0.310307\n",
      "[175]\tvalid_0's l1: 0.310294\n",
      "[176]\tvalid_0's l1: 0.31026\n",
      "[177]\tvalid_0's l1: 0.310273\n",
      "[178]\tvalid_0's l1: 0.310296\n",
      "[179]\tvalid_0's l1: 0.310292\n",
      "[180]\tvalid_0's l1: 0.310297\n",
      "[181]\tvalid_0's l1: 0.310319\n",
      "[182]\tvalid_0's l1: 0.310316\n",
      "[183]\tvalid_0's l1: 0.310332\n",
      "[184]\tvalid_0's l1: 0.310366\n",
      "[185]\tvalid_0's l1: 0.310369\n",
      "[186]\tvalid_0's l1: 0.310385\n",
      "[187]\tvalid_0's l1: 0.310384\n",
      "[188]\tvalid_0's l1: 0.310393\n",
      "[189]\tvalid_0's l1: 0.310402\n",
      "[190]\tvalid_0's l1: 0.310397\n",
      "[191]\tvalid_0's l1: 0.3104\n",
      "[192]\tvalid_0's l1: 0.3104\n",
      "[193]\tvalid_0's l1: 0.310377\n",
      "[194]\tvalid_0's l1: 0.310368\n",
      "[195]\tvalid_0's l1: 0.310395\n",
      "[196]\tvalid_0's l1: 0.310392\n",
      "Early stopping, best iteration is:\n",
      "[176]\tvalid_0's l1: 0.31026\n"
     ]
    }
   ],
   "source": [
    "num_round = 200\n",
    "bst_lgb = lgb.train(param, lgb_x_train_part, num_round, \n",
    "                    valid_sets=[lgb_x_valid], early_stopping_rounds=20)"
   ]
  },
  {
   "cell_type": "code",
   "execution_count": 34,
   "metadata": {
    "_cell_guid": "8ec4539d-356f-4ac5-9593-295086a31be9",
    "_uuid": "db767ad49cebf3699b3e6b7401b5491dae00c5b9"
   },
   "outputs": [],
   "source": [
    "lgb_pred = np.expm1(bst_lgb.predict(X_valid.astype(np.float32), \n",
    "                                    num_iteration=bst_lgb.best_iteration))"
   ]
  },
  {
   "cell_type": "markdown",
   "metadata": {
    "_cell_guid": "f44257f1-fed5-47c3-8787-cb389ec6fdc9",
    "_uuid": "5b504fc89e0bf8028d9b109801b4f4db129240de"
   },
   "source": [
    "Let's plot predictions and targets for the holdout set. Recall that these are #recommendations (= #claps) of Medium articles with the `np.log1p` transformation."
   ]
  },
  {
   "cell_type": "code",
   "execution_count": 35,
   "metadata": {
    "_cell_guid": "04d4bdaf-131f-4969-8956-93339769d3e9",
    "_uuid": "26728f53d2a660325463a7982ab96bb15bbe3e20"
   },
   "outputs": [
    {
     "data": {
      "image/png": "[encoded data removed]",
      "text/plain": [
       "<Figure size 432x288 with 1 Axes>"
      ]
     },
     "metadata": {
      "needs_background": "light"
     },
     "output_type": "display_data"
    }
   ],
   "source": [
    "plt.hist(y_valid, bins=30, alpha=.5, color='red', label='true', range=(0,10));\n",
    "plt.hist(ridge_pred, bins=30, alpha=.5, color='green', label='Ridge', range=(0,10));\n",
    "plt.hist(lgb_pred, bins=30, alpha=.5, color='blue', label='Lgbm', range=(0,10));\n",
    "plt.legend();"
   ]
  },
  {
   "cell_type": "markdown",
   "metadata": {
    "_cell_guid": "3e3ff635-817c-4058-ba80-efd3691dc3d9",
    "_uuid": "9b73c8693ded235ecfc968b054aa4784b07b1434"
   },
   "source": [
    "As we can see, the prediction is far from perfect, and we get MAE $\\approx$ 1.3 that corresponds to $\\approx$ 2.7 error in #recommendations."
   ]
  },
  {
   "cell_type": "code",
   "execution_count": 36,
   "metadata": {
    "_cell_guid": "accef7a8-20b1-4185-9294-10086d2dd257",
    "_uuid": "cdbd84653eedf85c5429c3e0b6d5165c9d0c69e3"
   },
   "outputs": [
    {
     "data": {
      "text/plain": [
       "1.1094473167677623"
      ]
     },
     "execution_count": 36,
     "metadata": {},
     "output_type": "execute_result"
    }
   ],
   "source": [
    "ridge_valid_mae = mean_absolute_error(y_valid, ridge_pred)\n",
    "ridge_valid_mae"
   ]
  },
  {
   "cell_type": "code",
   "execution_count": 37,
   "metadata": {
    "_cell_guid": "94eb36d6-bbbb-4a4a-a1ea-2177545bd216",
    "_uuid": "b995752f5e4114533d60028da88b2aab67609f14"
   },
   "outputs": [
    {
     "data": {
      "text/plain": [
       "1.1400104042715926"
      ]
     },
     "execution_count": 37,
     "metadata": {},
     "output_type": "execute_result"
    }
   ],
   "source": [
    "lgb_valid_mae = mean_absolute_error(y_valid, lgb_pred)\n",
    "lgb_valid_mae"
   ]
  },
  {
   "cell_type": "markdown",
   "metadata": {
    "_cell_guid": "b7e2febf-eecb-4a6b-aacd-f1f2df9c35eb",
    "_uuid": "fe7994dc5800bd8646a4c4844b7d7ce4abb3b46c"
   },
   "source": [
    "# Simple blending\n",
    "Now let's mix predictions. We's just pick up weights 0.6 for Lgbm and 0.4 for Ridge, but these are typically tuned via cross-validation. "
   ]
  },
  {
   "cell_type": "code",
   "execution_count": 38,
   "metadata": {
    "_cell_guid": "b2afea6b-a323-4305-84fa-230b35568948",
    "_uuid": "a39a5be9a5e654a9e3cf86d362da0a4e25c969f5"
   },
   "outputs": [
    {
     "data": {
      "text/plain": [
       "1.093333546510044"
      ]
     },
     "execution_count": 38,
     "metadata": {},
     "output_type": "execute_result"
    }
   ],
   "source": [
    "mean_absolute_error(y_valid, .4 * lgb_pred + .6 * ridge_pred)"
   ]
  },
  {
   "cell_type": "markdown",
   "metadata": {
    "_cell_guid": "d11f6284-2b5d-47ca-a91e-378ae33624da",
    "_uuid": "c748e7d2ef9e4deef4cff263c1864b104e9bf162"
   },
   "source": [
    "Finally, train both models on the full accessible training set, make predictions for the test set and form submission files. "
   ]
  },
  {
   "cell_type": "code",
   "execution_count": 39,
   "metadata": {
    "_cell_guid": "a652dc8c-c36b-41fe-9b50-293f673f9bac",
    "_uuid": "6173bd062c70d5748131a5c3dc041a4af3984a2b"
   },
   "outputs": [
    {
     "name": "stdout",
     "output_type": "stream",
     "text": [
      "CPU times: user 3.29 s, sys: 76 µs, total: 3.29 s\n",
      "Wall time: 3.18 s\n"
     ]
    },
    {
     "data": {
      "text/plain": [
       "Ridge(alpha=1.0, copy_X=True, fit_intercept=True, max_iter=None,\n",
       "   normalize=False, random_state=17, solver='auto', tol=0.001)"
      ]
     },
     "execution_count": 39,
     "metadata": {},
     "output_type": "execute_result"
    }
   ],
   "source": [
    "%%time\n",
    "ridge.fit(X_train, np.log1p(y_train));"
   ]
  },
  {
   "cell_type": "code",
   "execution_count": 40,
   "metadata": {
    "_cell_guid": "d7483212-f3f9-4014-93ff-59458edcfd8d",
    "_uuid": "fe82046ad7005d84447cd15b9f84490a3eb8acbe"
   },
   "outputs": [
    {
     "name": "stdout",
     "output_type": "stream",
     "text": [
      "CPU times: user 15.5 ms, sys: 24 µs, total: 15.5 ms\n",
      "Wall time: 17.3 ms\n"
     ]
    }
   ],
   "source": [
    "%%time\n",
    "ridge_test_pred = np.expm1(ridge.predict(X_test))"
   ]
  },
  {
   "cell_type": "code",
   "execution_count": 41,
   "metadata": {
    "_cell_guid": "f50d3725-f34d-45fb-993e-2175d94095aa",
    "_uuid": "ffeea3e3101bd5112443dd14b7ab69212866e8be"
   },
   "outputs": [],
   "source": [
    "lgb_x_train = lgb.Dataset(X_train.astype(np.float32),\n",
    "                          label=np.log1p(y_train))"
   ]
  },
  {
   "cell_type": "code",
   "execution_count": 42,
   "metadata": {
    "_cell_guid": "5d1d2c49-d934-4c8c-be49-7ca90a756939",
    "_uuid": "7e0824ae786d3c9f87283b8cab2824e851994f38"
   },
   "outputs": [],
   "source": [
    "num_round = 60\n",
    "bst_lgb = lgb.train(param, lgb_x_train, num_round)"
   ]
  },
  {
   "cell_type": "code",
   "execution_count": 43,
   "metadata": {
    "_cell_guid": "83930516-6a17-4906-907f-e6001d09dcc0",
    "_uuid": "65622a7d311c38dccd706640283260e41eefae68"
   },
   "outputs": [],
   "source": [
    "lgb_test_pred = np.expm1(bst_lgb.predict(X_test.astype(np.float32)))"
   ]
  },
  {
   "cell_type": "markdown",
   "metadata": {
    "_uuid": "5b5e80b5cc0b927ac60c642a130021dfbd39470d"
   },
   "source": [
    "Here's a simple mix"
   ]
  },
  {
   "cell_type": "code",
   "execution_count": 44,
   "metadata": {
    "_cell_guid": "d8e02da0-c3fa-4260-9070-d8150f13b06a",
    "_uuid": "7051fdaaff2dffe7b3df9e5dd475f1afbdf0596a"
   },
   "outputs": [],
   "source": [
    "mix_pred = .4 * lgb_test_pred + .6 * ridge_test_pred"
   ]
  },
  {
   "cell_type": "markdown",
   "metadata": {
    "_uuid": "d31ddfa63eb56cee1da892651ee885f662ea6fab"
   },
   "source": [
    "# Leaderboard probing\n",
    "\n",
    "Now we apply a dirty hack. Originally, we made you come up with it by your own (as a part of an assignment, with only a hint from out side), but now it's described in [this](https://nbviewer.jupyter.org/github/Yorko/mlcourse.ai/blob/master/jupyter_english/tutorials/kaggle_leaderboard_probing_nikolai_timonin.ipynb) tutorial, written within a previous session of [mlcourse.ai](https://mlcourse.ai).\n",
    "\n",
    "Submitting all zeros gives 4.33328. If you take a pen and a piece of paper and figure out what it means for MAE that all predictions are zeros, then you'll see that it's exactly the mean target value for the test set. We can compare it with mean target for training data and correspondingly adjust predictions. Looks like a dirty hack, however, the same thing is often done with time series prediction (even in production) - merely adjusting your predictions to a change in target variable distribution."
   ]
  },
  {
   "cell_type": "code",
   "execution_count": 45,
   "metadata": {
    "_uuid": "9d9621ecf562ff443770eecd4898ec1095bd9d4f"
   },
   "outputs": [],
   "source": [
    "mean_test_target = 4.33328 "
   ]
  },
  {
   "cell_type": "code",
   "execution_count": 46,
   "metadata": {
    "_uuid": "269fff5f3ffdc77a288794a91c9edb36503fa8a8"
   },
   "outputs": [],
   "source": [
    "mix_test_pred_modif = mix_pred + mean_test_target - y_train.mean()"
   ]
  },
  {
   "cell_type": "code",
   "execution_count": 47,
   "metadata": {
    "_cell_guid": "6d5e2e90-8b98-4c6f-8f2c-ea97504b5d43",
    "_uuid": "1ef9ba851825da831dc62a7f68742485061e80b5"
   },
   "outputs": [],
   "source": [
    "def write_submission_file(prediction, filename,\n",
    "                          path_to_sample=os.path.join(PATH_TO_DATA, \n",
    "                                                      'sample_submission.csv')):\n",
    "    submission = pd.read_csv(path_to_sample, index_col='id')\n",
    "    \n",
    "    submission['log_recommends'] = prediction\n",
    "    submission.to_csv(filename)"
   ]
  },
  {
   "cell_type": "code",
   "execution_count": 48,
   "metadata": {
    "_uuid": "de13de492d9386883fba52085488fb9ab998dbe3"
   },
   "outputs": [],
   "source": [
    "#write_submission_file(ridge_test_pred + mean_test_target - y_train.mean(), 'ridge_submission.csv')"
   ]
  },
  {
   "cell_type": "code",
   "execution_count": 49,
   "metadata": {
    "_uuid": "64a2f336a197783693f07723faa2970a52b53789"
   },
   "outputs": [],
   "source": [
    "#write_submission_file(lgb_test_pred + mean_test_target - y_train.mean(), 'lgb_submission.csv')"
   ]
  },
  {
   "cell_type": "code",
   "execution_count": 50,
   "metadata": {
    "_uuid": "672670dabe2d69b4d02a60ba83c72c2e74f1b582"
   },
   "outputs": [],
   "source": [
    "write_submission_file(mix_test_pred_modif, 'submission.csv')"
   ]
  },
  {
   "cell_type": "markdown",
   "metadata": {
    "_cell_guid": "e46651dd-07ef-4bd4-94af-2908009d257e",
    "_uuid": "28de7946220f1fa8d307362f13909bc2a1734fac"
   },
   "source": [
    "Public MAEs:\n",
    "\n",
    "- Ridge – 1.65253\n",
    "- LGBM – 1.69407\n",
    "- Ridge-LGBM mix – 1.64080\n",
    "\n",
    "As we can see, simple blending decreases MAE for both holdout predictions and on the leaderboard. However, I don't recommend to play with blending/stacking schemes un the beginning of the competition  – it's crucially important to come up with good features first.\n",
    "\n",
    "You can further improve your model in various ways. I've described them in [this kernel](https://www.kaggle.com/kashnitsky/ridge-countvectorizer-baseline). Go and compete, good luck!"
   ]
  }
 ],
 "metadata": {
  "kernelspec": {
   "display_name": "Python 3",
   "language": "python",
   "name": "python3"
  },
  "language_info": {
   "codemirror_mode": {
    "name": "ipython",
    "version": 3
   },
   "file_extension": ".py",
   "mimetype": "text/x-python",
   "name": "python",
   "nbconvert_exporter": "python",
   "pygments_lexer": "ipython3",
   "version": "3.7.1"
  }
 },
 "nbformat": 4,
 "nbformat_minor": 1
}
